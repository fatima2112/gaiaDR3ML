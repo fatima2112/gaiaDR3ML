{
  "nbformat": 4,
  "nbformat_minor": 0,
  "metadata": {
    "colab": {
      "provenance": [],
      "include_colab_link": true
    },
    "kernelspec": {
      "name": "python3",
      "display_name": "Python 3"
    },
    "language_info": {
      "name": "python"
    }
  },
  "cells": [
    {
      "cell_type": "markdown",
      "metadata": {
        "id": "view-in-github",
        "colab_type": "text"
      },
      "source": [
        "<a href=\"https://colab.research.google.com/github/fatima2112/gaiaDR3ML/blob/master/Normalizaci%C3%B3n.ipynb\" target=\"_parent\"><img src=\"https://colab.research.google.com/assets/colab-badge.svg\" alt=\"Open In Colab\"/></a>"
      ]
    },
    {
      "cell_type": "code",
      "source": [
        "pip install GaiaXPy"
      ],
      "metadata": {
        "colab": {
          "base_uri": "https://localhost:8080/"
        },
        "id": "01ZTmFuSTLzi",
        "outputId": "79667ded-816a-42f1-ca80-b6c9d75640ca"
      },
      "execution_count": null,
      "outputs": [
        {
          "output_type": "stream",
          "name": "stdout",
          "text": [
            "Looking in indexes: https://pypi.org/simple, https://us-python.pkg.dev/colab-wheels/public/simple/\n",
            "Requirement already satisfied: GaiaXPy in /usr/local/lib/python3.8/dist-packages (2.0.0)\n",
            "Requirement already satisfied: astroquery in /usr/local/lib/python3.8/dist-packages (from GaiaXPy) (0.4.6)\n",
            "Requirement already satisfied: scipy in /usr/local/lib/python3.8/dist-packages (from GaiaXPy) (1.7.3)\n",
            "Requirement already satisfied: astropy in /usr/local/lib/python3.8/dist-packages (from GaiaXPy) (4.3.1)\n",
            "Requirement already satisfied: PyQt5 in /usr/local/lib/python3.8/dist-packages (from GaiaXPy) (5.15.7)\n",
            "Requirement already satisfied: aenum in /usr/local/lib/python3.8/dist-packages (from GaiaXPy) (3.1.11)\n",
            "Requirement already satisfied: packaging in /usr/local/lib/python3.8/dist-packages (from GaiaXPy) (21.3)\n",
            "Requirement already satisfied: pandas>=1.0.0 in /usr/local/lib/python3.8/dist-packages (from GaiaXPy) (1.3.5)\n",
            "Requirement already satisfied: numpy in /usr/local/lib/python3.8/dist-packages (from GaiaXPy) (1.21.6)\n",
            "Requirement already satisfied: fastavro in /usr/local/lib/python3.8/dist-packages (from GaiaXPy) (1.7.0)\n",
            "Requirement already satisfied: tqdm>=4.64.0 in /usr/local/lib/python3.8/dist-packages (from GaiaXPy) (4.64.1)\n",
            "Requirement already satisfied: matplotlib in /usr/local/lib/python3.8/dist-packages (from GaiaXPy) (3.2.2)\n",
            "Requirement already satisfied: pytz>=2017.3 in /usr/local/lib/python3.8/dist-packages (from pandas>=1.0.0->GaiaXPy) (2022.7)\n",
            "Requirement already satisfied: python-dateutil>=2.7.3 in /usr/local/lib/python3.8/dist-packages (from pandas>=1.0.0->GaiaXPy) (2.8.2)\n",
            "Requirement already satisfied: pyerfa>=1.7.3 in /usr/local/lib/python3.8/dist-packages (from astropy->GaiaXPy) (2.0.0.1)\n",
            "Requirement already satisfied: pyvo>=1.1 in /usr/local/lib/python3.8/dist-packages (from astroquery->GaiaXPy) (1.4)\n",
            "Requirement already satisfied: requests>=2.4.3 in /usr/local/lib/python3.8/dist-packages (from astroquery->GaiaXPy) (2.25.1)\n",
            "Requirement already satisfied: beautifulsoup4>=4.3.2 in /usr/local/lib/python3.8/dist-packages (from astroquery->GaiaXPy) (4.6.3)\n",
            "Requirement already satisfied: html5lib>=0.999 in /usr/local/lib/python3.8/dist-packages (from astroquery->GaiaXPy) (1.0.1)\n",
            "Requirement already satisfied: keyring>=4.0 in /usr/local/lib/python3.8/dist-packages (from astroquery->GaiaXPy) (23.13.1)\n",
            "Requirement already satisfied: cycler>=0.10 in /usr/local/lib/python3.8/dist-packages (from matplotlib->GaiaXPy) (0.11.0)\n",
            "Requirement already satisfied: pyparsing!=2.0.4,!=2.1.2,!=2.1.6,>=2.0.1 in /usr/local/lib/python3.8/dist-packages (from matplotlib->GaiaXPy) (3.0.9)\n",
            "Requirement already satisfied: kiwisolver>=1.0.1 in /usr/local/lib/python3.8/dist-packages (from matplotlib->GaiaXPy) (1.4.4)\n",
            "Requirement already satisfied: PyQt5-Qt5>=5.15.0 in /usr/local/lib/python3.8/dist-packages (from PyQt5->GaiaXPy) (5.15.2)\n",
            "Requirement already satisfied: PyQt5-sip<13,>=12.11 in /usr/local/lib/python3.8/dist-packages (from PyQt5->GaiaXPy) (12.11.0)\n",
            "Requirement already satisfied: six>=1.9 in /usr/local/lib/python3.8/dist-packages (from html5lib>=0.999->astroquery->GaiaXPy) (1.15.0)\n",
            "Requirement already satisfied: webencodings in /usr/local/lib/python3.8/dist-packages (from html5lib>=0.999->astroquery->GaiaXPy) (0.5.1)\n",
            "Requirement already satisfied: jaraco.classes in /usr/local/lib/python3.8/dist-packages (from keyring>=4.0->astroquery->GaiaXPy) (3.2.3)\n",
            "Requirement already satisfied: importlib-resources in /usr/local/lib/python3.8/dist-packages (from keyring>=4.0->astroquery->GaiaXPy) (5.10.2)\n",
            "Requirement already satisfied: importlib-metadata>=4.11.4 in /usr/local/lib/python3.8/dist-packages (from keyring>=4.0->astroquery->GaiaXPy) (6.0.0)\n",
            "Requirement already satisfied: SecretStorage>=3.2 in /usr/local/lib/python3.8/dist-packages (from keyring>=4.0->astroquery->GaiaXPy) (3.3.3)\n",
            "Requirement already satisfied: jeepney>=0.4.2 in /usr/local/lib/python3.8/dist-packages (from keyring>=4.0->astroquery->GaiaXPy) (0.8.0)\n",
            "Requirement already satisfied: chardet<5,>=3.0.2 in /usr/local/lib/python3.8/dist-packages (from requests>=2.4.3->astroquery->GaiaXPy) (4.0.0)\n",
            "Requirement already satisfied: urllib3<1.27,>=1.21.1 in /usr/local/lib/python3.8/dist-packages (from requests>=2.4.3->astroquery->GaiaXPy) (1.24.3)\n",
            "Requirement already satisfied: certifi>=2017.4.17 in /usr/local/lib/python3.8/dist-packages (from requests>=2.4.3->astroquery->GaiaXPy) (2022.12.7)\n",
            "Requirement already satisfied: idna<3,>=2.5 in /usr/local/lib/python3.8/dist-packages (from requests>=2.4.3->astroquery->GaiaXPy) (2.10)\n",
            "Requirement already satisfied: zipp>=0.5 in /usr/local/lib/python3.8/dist-packages (from importlib-metadata>=4.11.4->keyring>=4.0->astroquery->GaiaXPy) (3.11.0)\n",
            "Requirement already satisfied: cryptography>=2.0 in /usr/local/lib/python3.8/dist-packages (from SecretStorage>=3.2->keyring>=4.0->astroquery->GaiaXPy) (39.0.0)\n",
            "Requirement already satisfied: more-itertools in /usr/local/lib/python3.8/dist-packages (from jaraco.classes->keyring>=4.0->astroquery->GaiaXPy) (9.0.0)\n",
            "Requirement already satisfied: cffi>=1.12 in /usr/local/lib/python3.8/dist-packages (from cryptography>=2.0->SecretStorage>=3.2->keyring>=4.0->astroquery->GaiaXPy) (1.15.1)\n",
            "Requirement already satisfied: pycparser in /usr/local/lib/python3.8/dist-packages (from cffi>=1.12->cryptography>=2.0->SecretStorage>=3.2->keyring>=4.0->astroquery->GaiaXPy) (2.21)\n"
          ]
        }
      ]
    },
    {
      "cell_type": "code",
      "source": [
        "import pandas as pd\n",
        "\n",
        "from google.colab import drive\n",
        "drive.mount('/content/gdrive', force_remount=True)\n",
        "\n",
        "data = pd.read_csv(\"gdrive/MyDrive/calibrate/XP_CONTINUOUS-Gaia DR3 308866701872125568.csv\")\n",
        "data.head()"
      ],
      "metadata": {
        "colab": {
          "base_uri": "https://localhost:8080/",
          "height": 227
        },
        "id": "XerTMSR9Pllh",
        "outputId": "602fbd18-1137-474a-f271-727d4f1a1eeb"
      },
      "execution_count": null,
      "outputs": [
        {
          "output_type": "stream",
          "name": "stdout",
          "text": [
            "Mounted at /content/gdrive\n"
          ]
        },
        {
          "output_type": "execute_result",
          "data": {
            "text/plain": [
              "            source_id          solution_id  bp_basis_function_id  \\\n",
              "0  308866701872125568  4545469030156206080                    56   \n",
              "\n",
              "   bp_degrees_of_freedom  bp_n_parameters  bp_n_measurements  \\\n",
              "0                   1117               55               1172   \n",
              "\n",
              "   bp_n_rejected_measurements  bp_standard_deviation  bp_chi_squared  \\\n",
              "0                          46               1.439717       2315.3008   \n",
              "\n",
              "                                     bp_coefficients  ... rp_n_parameters  \\\n",
              "0  (4359777.273910325, 581384.9657800844, -77748....  ...              55   \n",
              "\n",
              "  rp_n_measurements  rp_n_rejected_measurements  rp_standard_deviation  \\\n",
              "0              1325                          63               1.767027   \n",
              "\n",
              "   rp_chi_squared                                    rp_coefficients  \\\n",
              "0       3965.4263  (1.5584199896418598E7, 2563048.137275565, 8089...   \n",
              "\n",
              "                               rp_coefficient_errors  \\\n",
              "0  (11791.401, 12655.38, 11520.796, 10488.419, 11...   \n",
              "\n",
              "                         rp_coefficient_correlations  rp_n_relevant_bases  \\\n",
              "0  (-0.20425212, -0.13397367, 0.11055192, 0.03322...                   32   \n",
              "\n",
              "   rp_relative_shrinking  \n",
              "0               0.999999  \n",
              "\n",
              "[1 rows x 26 columns]"
            ],
            "text/html": [
              "\n",
              "  <div id=\"df-adf5fe37-7539-421c-98a2-34087474eb7f\">\n",
              "    <div class=\"colab-df-container\">\n",
              "      <div>\n",
              "<style scoped>\n",
              "    .dataframe tbody tr th:only-of-type {\n",
              "        vertical-align: middle;\n",
              "    }\n",
              "\n",
              "    .dataframe tbody tr th {\n",
              "        vertical-align: top;\n",
              "    }\n",
              "\n",
              "    .dataframe thead th {\n",
              "        text-align: right;\n",
              "    }\n",
              "</style>\n",
              "<table border=\"1\" class=\"dataframe\">\n",
              "  <thead>\n",
              "    <tr style=\"text-align: right;\">\n",
              "      <th></th>\n",
              "      <th>source_id</th>\n",
              "      <th>solution_id</th>\n",
              "      <th>bp_basis_function_id</th>\n",
              "      <th>bp_degrees_of_freedom</th>\n",
              "      <th>bp_n_parameters</th>\n",
              "      <th>bp_n_measurements</th>\n",
              "      <th>bp_n_rejected_measurements</th>\n",
              "      <th>bp_standard_deviation</th>\n",
              "      <th>bp_chi_squared</th>\n",
              "      <th>bp_coefficients</th>\n",
              "      <th>...</th>\n",
              "      <th>rp_n_parameters</th>\n",
              "      <th>rp_n_measurements</th>\n",
              "      <th>rp_n_rejected_measurements</th>\n",
              "      <th>rp_standard_deviation</th>\n",
              "      <th>rp_chi_squared</th>\n",
              "      <th>rp_coefficients</th>\n",
              "      <th>rp_coefficient_errors</th>\n",
              "      <th>rp_coefficient_correlations</th>\n",
              "      <th>rp_n_relevant_bases</th>\n",
              "      <th>rp_relative_shrinking</th>\n",
              "    </tr>\n",
              "  </thead>\n",
              "  <tbody>\n",
              "    <tr>\n",
              "      <th>0</th>\n",
              "      <td>308866701872125568</td>\n",
              "      <td>4545469030156206080</td>\n",
              "      <td>56</td>\n",
              "      <td>1117</td>\n",
              "      <td>55</td>\n",
              "      <td>1172</td>\n",
              "      <td>46</td>\n",
              "      <td>1.439717</td>\n",
              "      <td>2315.3008</td>\n",
              "      <td>(4359777.273910325, 581384.9657800844, -77748....</td>\n",
              "      <td>...</td>\n",
              "      <td>55</td>\n",
              "      <td>1325</td>\n",
              "      <td>63</td>\n",
              "      <td>1.767027</td>\n",
              "      <td>3965.4263</td>\n",
              "      <td>(1.5584199896418598E7, 2563048.137275565, 8089...</td>\n",
              "      <td>(11791.401, 12655.38, 11520.796, 10488.419, 11...</td>\n",
              "      <td>(-0.20425212, -0.13397367, 0.11055192, 0.03322...</td>\n",
              "      <td>32</td>\n",
              "      <td>0.999999</td>\n",
              "    </tr>\n",
              "  </tbody>\n",
              "</table>\n",
              "<p>1 rows × 26 columns</p>\n",
              "</div>\n",
              "      <button class=\"colab-df-convert\" onclick=\"convertToInteractive('df-adf5fe37-7539-421c-98a2-34087474eb7f')\"\n",
              "              title=\"Convert this dataframe to an interactive table.\"\n",
              "              style=\"display:none;\">\n",
              "        \n",
              "  <svg xmlns=\"http://www.w3.org/2000/svg\" height=\"24px\"viewBox=\"0 0 24 24\"\n",
              "       width=\"24px\">\n",
              "    <path d=\"M0 0h24v24H0V0z\" fill=\"none\"/>\n",
              "    <path d=\"M18.56 5.44l.94 2.06.94-2.06 2.06-.94-2.06-.94-.94-2.06-.94 2.06-2.06.94zm-11 1L8.5 8.5l.94-2.06 2.06-.94-2.06-.94L8.5 2.5l-.94 2.06-2.06.94zm10 10l.94 2.06.94-2.06 2.06-.94-2.06-.94-.94-2.06-.94 2.06-2.06.94z\"/><path d=\"M17.41 7.96l-1.37-1.37c-.4-.4-.92-.59-1.43-.59-.52 0-1.04.2-1.43.59L10.3 9.45l-7.72 7.72c-.78.78-.78 2.05 0 2.83L4 21.41c.39.39.9.59 1.41.59.51 0 1.02-.2 1.41-.59l7.78-7.78 2.81-2.81c.8-.78.8-2.07 0-2.86zM5.41 20L4 18.59l7.72-7.72 1.47 1.35L5.41 20z\"/>\n",
              "  </svg>\n",
              "      </button>\n",
              "      \n",
              "  <style>\n",
              "    .colab-df-container {\n",
              "      display:flex;\n",
              "      flex-wrap:wrap;\n",
              "      gap: 12px;\n",
              "    }\n",
              "\n",
              "    .colab-df-convert {\n",
              "      background-color: #E8F0FE;\n",
              "      border: none;\n",
              "      border-radius: 50%;\n",
              "      cursor: pointer;\n",
              "      display: none;\n",
              "      fill: #1967D2;\n",
              "      height: 32px;\n",
              "      padding: 0 0 0 0;\n",
              "      width: 32px;\n",
              "    }\n",
              "\n",
              "    .colab-df-convert:hover {\n",
              "      background-color: #E2EBFA;\n",
              "      box-shadow: 0px 1px 2px rgba(60, 64, 67, 0.3), 0px 1px 3px 1px rgba(60, 64, 67, 0.15);\n",
              "      fill: #174EA6;\n",
              "    }\n",
              "\n",
              "    [theme=dark] .colab-df-convert {\n",
              "      background-color: #3B4455;\n",
              "      fill: #D2E3FC;\n",
              "    }\n",
              "\n",
              "    [theme=dark] .colab-df-convert:hover {\n",
              "      background-color: #434B5C;\n",
              "      box-shadow: 0px 1px 3px 1px rgba(0, 0, 0, 0.15);\n",
              "      filter: drop-shadow(0px 1px 2px rgba(0, 0, 0, 0.3));\n",
              "      fill: #FFFFFF;\n",
              "    }\n",
              "  </style>\n",
              "\n",
              "      <script>\n",
              "        const buttonEl =\n",
              "          document.querySelector('#df-adf5fe37-7539-421c-98a2-34087474eb7f button.colab-df-convert');\n",
              "        buttonEl.style.display =\n",
              "          google.colab.kernel.accessAllowed ? 'block' : 'none';\n",
              "\n",
              "        async function convertToInteractive(key) {\n",
              "          const element = document.querySelector('#df-adf5fe37-7539-421c-98a2-34087474eb7f');\n",
              "          const dataTable =\n",
              "            await google.colab.kernel.invokeFunction('convertToInteractive',\n",
              "                                                     [key], {});\n",
              "          if (!dataTable) return;\n",
              "\n",
              "          const docLinkHtml = 'Like what you see? Visit the ' +\n",
              "            '<a target=\"_blank\" href=https://colab.research.google.com/notebooks/data_table.ipynb>data table notebook</a>'\n",
              "            + ' to learn more about interactive tables.';\n",
              "          element.innerHTML = '';\n",
              "          dataTable['output_type'] = 'display_data';\n",
              "          await google.colab.output.renderOutput(dataTable, element);\n",
              "          const docLink = document.createElement('div');\n",
              "          docLink.innerHTML = docLinkHtml;\n",
              "          element.appendChild(docLink);\n",
              "        }\n",
              "      </script>\n",
              "    </div>\n",
              "  </div>\n",
              "  "
            ]
          },
          "metadata": {},
          "execution_count": 2
        }
      ]
    },
    {
      "cell_type": "code",
      "execution_count": null,
      "metadata": {
        "id": "1187wjjOSIYL"
      },
      "outputs": [],
      "source": [
        "# Import the tool\n",
        "from gaiaxpy import calibrate\n",
        "# Path to file with XP CONTINUOUS RAW data (csv, ecsv, fits, or xml)\n",
        "\n",
        "f = data"
      ]
    },
    {
      "cell_type": "code",
      "source": [
        "# El espectro calibrado que es un pandas DataFrame (calibrated_spectra)\n",
        "calibrated_spectra, sampling = calibrate(f)\n",
        "calibrated_spectra"
      ],
      "metadata": {
        "colab": {
          "base_uri": "https://localhost:8080/",
          "height": 81
        },
        "id": "UeMTANuWTcEg",
        "outputId": "c2080d07-91a9-4820-8420-dfd83e3880c3"
      },
      "execution_count": null,
      "outputs": [
        {
          "output_type": "stream",
          "name": "stderr",
          "text": []
        },
        {
          "output_type": "execute_result",
          "data": {
            "text/plain": [
              "            source_id                                               flux  \\\n",
              "0  308866701872125568  [1.8545887904429264e-14, 1.9515631422050145e-1...   \n",
              "\n",
              "                                          flux_error  \n",
              "0  [5.214474777878777e-15, 3.992541487358003e-15,...  "
            ],
            "text/html": [
              "\n",
              "  <div id=\"df-492776cb-5c59-4658-a60c-c7a5900bf4cf\">\n",
              "    <div class=\"colab-df-container\">\n",
              "      <div>\n",
              "<style scoped>\n",
              "    .dataframe tbody tr th:only-of-type {\n",
              "        vertical-align: middle;\n",
              "    }\n",
              "\n",
              "    .dataframe tbody tr th {\n",
              "        vertical-align: top;\n",
              "    }\n",
              "\n",
              "    .dataframe thead th {\n",
              "        text-align: right;\n",
              "    }\n",
              "</style>\n",
              "<table border=\"1\" class=\"dataframe\">\n",
              "  <thead>\n",
              "    <tr style=\"text-align: right;\">\n",
              "      <th></th>\n",
              "      <th>source_id</th>\n",
              "      <th>flux</th>\n",
              "      <th>flux_error</th>\n",
              "    </tr>\n",
              "  </thead>\n",
              "  <tbody>\n",
              "    <tr>\n",
              "      <th>0</th>\n",
              "      <td>308866701872125568</td>\n",
              "      <td>[1.8545887904429264e-14, 1.9515631422050145e-1...</td>\n",
              "      <td>[5.214474777878777e-15, 3.992541487358003e-15,...</td>\n",
              "    </tr>\n",
              "  </tbody>\n",
              "</table>\n",
              "</div>\n",
              "      <button class=\"colab-df-convert\" onclick=\"convertToInteractive('df-492776cb-5c59-4658-a60c-c7a5900bf4cf')\"\n",
              "              title=\"Convert this dataframe to an interactive table.\"\n",
              "              style=\"display:none;\">\n",
              "        \n",
              "  <svg xmlns=\"http://www.w3.org/2000/svg\" height=\"24px\"viewBox=\"0 0 24 24\"\n",
              "       width=\"24px\">\n",
              "    <path d=\"M0 0h24v24H0V0z\" fill=\"none\"/>\n",
              "    <path d=\"M18.56 5.44l.94 2.06.94-2.06 2.06-.94-2.06-.94-.94-2.06-.94 2.06-2.06.94zm-11 1L8.5 8.5l.94-2.06 2.06-.94-2.06-.94L8.5 2.5l-.94 2.06-2.06.94zm10 10l.94 2.06.94-2.06 2.06-.94-2.06-.94-.94-2.06-.94 2.06-2.06.94z\"/><path d=\"M17.41 7.96l-1.37-1.37c-.4-.4-.92-.59-1.43-.59-.52 0-1.04.2-1.43.59L10.3 9.45l-7.72 7.72c-.78.78-.78 2.05 0 2.83L4 21.41c.39.39.9.59 1.41.59.51 0 1.02-.2 1.41-.59l7.78-7.78 2.81-2.81c.8-.78.8-2.07 0-2.86zM5.41 20L4 18.59l7.72-7.72 1.47 1.35L5.41 20z\"/>\n",
              "  </svg>\n",
              "      </button>\n",
              "      \n",
              "  <style>\n",
              "    .colab-df-container {\n",
              "      display:flex;\n",
              "      flex-wrap:wrap;\n",
              "      gap: 12px;\n",
              "    }\n",
              "\n",
              "    .colab-df-convert {\n",
              "      background-color: #E8F0FE;\n",
              "      border: none;\n",
              "      border-radius: 50%;\n",
              "      cursor: pointer;\n",
              "      display: none;\n",
              "      fill: #1967D2;\n",
              "      height: 32px;\n",
              "      padding: 0 0 0 0;\n",
              "      width: 32px;\n",
              "    }\n",
              "\n",
              "    .colab-df-convert:hover {\n",
              "      background-color: #E2EBFA;\n",
              "      box-shadow: 0px 1px 2px rgba(60, 64, 67, 0.3), 0px 1px 3px 1px rgba(60, 64, 67, 0.15);\n",
              "      fill: #174EA6;\n",
              "    }\n",
              "\n",
              "    [theme=dark] .colab-df-convert {\n",
              "      background-color: #3B4455;\n",
              "      fill: #D2E3FC;\n",
              "    }\n",
              "\n",
              "    [theme=dark] .colab-df-convert:hover {\n",
              "      background-color: #434B5C;\n",
              "      box-shadow: 0px 1px 3px 1px rgba(0, 0, 0, 0.15);\n",
              "      filter: drop-shadow(0px 1px 2px rgba(0, 0, 0, 0.3));\n",
              "      fill: #FFFFFF;\n",
              "    }\n",
              "  </style>\n",
              "\n",
              "      <script>\n",
              "        const buttonEl =\n",
              "          document.querySelector('#df-492776cb-5c59-4658-a60c-c7a5900bf4cf button.colab-df-convert');\n",
              "        buttonEl.style.display =\n",
              "          google.colab.kernel.accessAllowed ? 'block' : 'none';\n",
              "\n",
              "        async function convertToInteractive(key) {\n",
              "          const element = document.querySelector('#df-492776cb-5c59-4658-a60c-c7a5900bf4cf');\n",
              "          const dataTable =\n",
              "            await google.colab.kernel.invokeFunction('convertToInteractive',\n",
              "                                                     [key], {});\n",
              "          if (!dataTable) return;\n",
              "\n",
              "          const docLinkHtml = 'Like what you see? Visit the ' +\n",
              "            '<a target=\"_blank\" href=https://colab.research.google.com/notebooks/data_table.ipynb>data table notebook</a>'\n",
              "            + ' to learn more about interactive tables.';\n",
              "          element.innerHTML = '';\n",
              "          dataTable['output_type'] = 'display_data';\n",
              "          await google.colab.output.renderOutput(dataTable, element);\n",
              "          const docLink = document.createElement('div');\n",
              "          docLink.innerHTML = docLinkHtml;\n",
              "          element.appendChild(docLink);\n",
              "        }\n",
              "      </script>\n",
              "    </div>\n",
              "  </div>\n",
              "  "
            ]
          },
          "metadata": {},
          "execution_count": 35
        }
      ]
    },
    {
      "cell_type": "code",
      "source": [
        "#Muestreo dado en Numpy, valores que corresponden en longitudes de onda (nm)\n",
        "calibrated_spectra, sampling = calibrate(f)\n",
        "sampling"
      ],
      "metadata": {
        "colab": {
          "base_uri": "https://localhost:8080/"
        },
        "id": "fWfbixVVRPro",
        "outputId": "e6cef24e-8545-421d-c007-cf604b187e0d"
      },
      "execution_count": null,
      "outputs": [
        {
          "output_type": "stream",
          "name": "stderr",
          "text": []
        },
        {
          "output_type": "execute_result",
          "data": {
            "text/plain": [
              "array([ 336.,  338.,  340.,  342.,  344.,  346.,  348.,  350.,  352.,\n",
              "        354.,  356.,  358.,  360.,  362.,  364.,  366.,  368.,  370.,\n",
              "        372.,  374.,  376.,  378.,  380.,  382.,  384.,  386.,  388.,\n",
              "        390.,  392.,  394.,  396.,  398.,  400.,  402.,  404.,  406.,\n",
              "        408.,  410.,  412.,  414.,  416.,  418.,  420.,  422.,  424.,\n",
              "        426.,  428.,  430.,  432.,  434.,  436.,  438.,  440.,  442.,\n",
              "        444.,  446.,  448.,  450.,  452.,  454.,  456.,  458.,  460.,\n",
              "        462.,  464.,  466.,  468.,  470.,  472.,  474.,  476.,  478.,\n",
              "        480.,  482.,  484.,  486.,  488.,  490.,  492.,  494.,  496.,\n",
              "        498.,  500.,  502.,  504.,  506.,  508.,  510.,  512.,  514.,\n",
              "        516.,  518.,  520.,  522.,  524.,  526.,  528.,  530.,  532.,\n",
              "        534.,  536.,  538.,  540.,  542.,  544.,  546.,  548.,  550.,\n",
              "        552.,  554.,  556.,  558.,  560.,  562.,  564.,  566.,  568.,\n",
              "        570.,  572.,  574.,  576.,  578.,  580.,  582.,  584.,  586.,\n",
              "        588.,  590.,  592.,  594.,  596.,  598.,  600.,  602.,  604.,\n",
              "        606.,  608.,  610.,  612.,  614.,  616.,  618.,  620.,  622.,\n",
              "        624.,  626.,  628.,  630.,  632.,  634.,  636.,  638.,  640.,\n",
              "        642.,  644.,  646.,  648.,  650.,  652.,  654.,  656.,  658.,\n",
              "        660.,  662.,  664.,  666.,  668.,  670.,  672.,  674.,  676.,\n",
              "        678.,  680.,  682.,  684.,  686.,  688.,  690.,  692.,  694.,\n",
              "        696.,  698.,  700.,  702.,  704.,  706.,  708.,  710.,  712.,\n",
              "        714.,  716.,  718.,  720.,  722.,  724.,  726.,  728.,  730.,\n",
              "        732.,  734.,  736.,  738.,  740.,  742.,  744.,  746.,  748.,\n",
              "        750.,  752.,  754.,  756.,  758.,  760.,  762.,  764.,  766.,\n",
              "        768.,  770.,  772.,  774.,  776.,  778.,  780.,  782.,  784.,\n",
              "        786.,  788.,  790.,  792.,  794.,  796.,  798.,  800.,  802.,\n",
              "        804.,  806.,  808.,  810.,  812.,  814.,  816.,  818.,  820.,\n",
              "        822.,  824.,  826.,  828.,  830.,  832.,  834.,  836.,  838.,\n",
              "        840.,  842.,  844.,  846.,  848.,  850.,  852.,  854.,  856.,\n",
              "        858.,  860.,  862.,  864.,  866.,  868.,  870.,  872.,  874.,\n",
              "        876.,  878.,  880.,  882.,  884.,  886.,  888.,  890.,  892.,\n",
              "        894.,  896.,  898.,  900.,  902.,  904.,  906.,  908.,  910.,\n",
              "        912.,  914.,  916.,  918.,  920.,  922.,  924.,  926.,  928.,\n",
              "        930.,  932.,  934.,  936.,  938.,  940.,  942.,  944.,  946.,\n",
              "        948.,  950.,  952.,  954.,  956.,  958.,  960.,  962.,  964.,\n",
              "        966.,  968.,  970.,  972.,  974.,  976.,  978.,  980.,  982.,\n",
              "        984.,  986.,  988.,  990.,  992.,  994.,  996.,  998., 1000.,\n",
              "       1002., 1004., 1006., 1008., 1010., 1012., 1014., 1016., 1018.,\n",
              "       1020.])"
            ]
          },
          "metadata": {},
          "execution_count": 6
        }
      ]
    },
    {
      "cell_type": "markdown",
      "source": [
        "Normalization is a simple technique for comparisons.fallow the steps\n",
        "\n",
        "1.Take maximum intensity value what you get in recording.\n",
        "\n",
        "2.Now devide each intensity value with that maximum value.\n",
        "\n",
        "3.Then all intensity values are in between 0 to 1."
      ],
      "metadata": {
        "id": "YWO8KIUmMp-J"
      }
    },
    {
      "cell_type": "code",
      "source": [
        "#Se convierte el arreglo de la columna flux a una lista, para obtener el valor máximo\n",
        "import numpy as np\n",
        "\n",
        "columna1_array = calibrated_spectra['flux'].tolist()\n",
        "columna1_array\n",
        "\n",
        "max_val = np.amax(columna1_array)\n",
        "print(max_val) #Se imprime el valor máximo para comparar\n"
      ],
      "metadata": {
        "colab": {
          "base_uri": "https://localhost:8080/"
        },
        "id": "1ZTOWHJuq8pk",
        "outputId": "956985b0-d3b5-47a2-d151-7870b7fac5c6"
      },
      "execution_count": null,
      "outputs": [
        {
          "output_type": "stream",
          "name": "stdout",
          "text": [
            "3.2088139072235183e-13\n"
          ]
        }
      ]
    },
    {
      "cell_type": "code",
      "source": [
        "#Se inicializa un nuevo arreglo para guardar los nuevos valores a calcular\n",
        "columna2_array = []\n",
        "for n in range(len(columna1_array)):\n",
        "  columna2_array = columna1_array[n]/max_val #Se divide cada uno de los flujos entre el valor máximo obtenido\n",
        "  \n",
        "#Se imprime dicho arreglo que consta de valores que van desde 0 a 1\n",
        "columna2_array"
      ],
      "metadata": {
        "colab": {
          "base_uri": "https://localhost:8080/"
        },
        "id": "DnWwLPpNtluV",
        "outputId": "02bb58c6-25b8-41ef-dbac-7fe4e81d4a24"
      },
      "execution_count": null,
      "outputs": [
        {
          "output_type": "execute_result",
          "data": {
            "text/plain": [
              "array([ 0.05779671,  0.06081883,  0.03864436,  0.02486251,  0.03584639,\n",
              "        0.04809803,  0.04190533,  0.0337927 ,  0.04717162,  0.06266996,\n",
              "        0.04720257,  0.02635203,  0.02999063,  0.04250031,  0.03850018,\n",
              "        0.02287048,  0.02209573,  0.03990696,  0.04643146,  0.02531479,\n",
              "        0.00298265,  0.01272875,  0.04262355,  0.04798678,  0.01887514,\n",
              "       -0.00533353,  0.00415226,  0.02980513,  0.04043107,  0.02952689,\n",
              "        0.01532347,  0.01644898,  0.03382688,  0.05316512,  0.06015504,\n",
              "        0.05395471,  0.04581996,  0.04751942,  0.0607082 ,  0.07637322,\n",
              "        0.08255113,  0.07491442,  0.05972438,  0.04879185,  0.05075741,\n",
              "        0.06546873,  0.08476132,  0.09926365,  0.1041248 ,  0.10141356,\n",
              "        0.0980286 ,  0.10038668,  0.11013611,  0.12443985,  0.1378898 ,\n",
              "        0.1461728 ,  0.14834141,  0.14698249,  0.14664689,  0.15106067,\n",
              "        0.16115261,  0.17527836,  0.18937722,  0.19996721,  0.20496329,\n",
              "        0.20429499,  0.20087977,  0.19702854,  0.19564682,  0.1979891 ,\n",
              "        0.20358755,  0.21097793,  0.21879297,  0.22491674,  0.22945854,\n",
              "        0.23186266,  0.23354123,  0.23541563,  0.23819703,  0.24147773,\n",
              "        0.24487364,  0.2480034 ,  0.24999014,  0.24943006,  0.24761578,\n",
              "        0.24454117,  0.24163791,  0.24040077,  0.24173428,  0.24661471,\n",
              "        0.25521751,  0.26697816,  0.2803754 ,  0.29500948,  0.30928121,\n",
              "        0.32154845,  0.33140647,  0.33843997,  0.34181633,  0.34255121,\n",
              "        0.34184506,  0.33967634,  0.33646472,  0.33343536,  0.33097501,\n",
              "        0.32805481,  0.32558596,  0.32346294,  0.32171982,  0.31913599,\n",
              "        0.31725607,  0.31554561,  0.31404646,  0.31335478,  0.31392952,\n",
              "        0.31619613,  0.32005536,  0.3263221 ,  0.33463045,  0.34307387,\n",
              "        0.35159145,  0.35870813,  0.36480966,  0.36863647,  0.36970453,\n",
              "        0.3700937 ,  0.3690266 ,  0.36750022,  0.36663721,  0.36400835,\n",
              "        0.36105701,  0.35922428,  0.35773217,  0.35659502,  0.35517727,\n",
              "        0.35425046,  0.35369425,  0.35418905,  0.35604726,  0.35916483,\n",
              "        0.36345642,  0.36939761,  0.37510748,  0.38259542,  0.39298102,\n",
              "        0.40353209,  0.41470467,  0.42611903,  0.43639962,  0.44656136,\n",
              "        0.45583668,  0.46597055,  0.48032154,  0.50042851,  0.50053027,\n",
              "        0.48472478,  0.47130824,  0.46770765,  0.47383223,  0.48703422,\n",
              "        0.50289234,  0.51739401,  0.52739839,  0.52989114,  0.52320358,\n",
              "        0.5081046 ,  0.49012465,  0.47545235,  0.46869638,  0.47286501,\n",
              "        0.48926814,  0.5125545 ,  0.53889342,  0.56536321,  0.59016738,\n",
              "        0.6146468 ,  0.64076056,  0.66775084,  0.6915604 ,  0.70998131,\n",
              "        0.71480843,  0.70311959,  0.67454039,  0.63571034,  0.59013084,\n",
              "        0.54740772,  0.51452872,  0.49351031,  0.48694658,  0.49488387,\n",
              "        0.51638491,  0.54863387,  0.5873287 ,  0.63186823,  0.67482433,\n",
              "        0.71458428,  0.75090409,  0.7800464 ,  0.8025724 ,  0.82204327,\n",
              "        0.84204176,  0.8608824 ,  0.87952197,  0.89775173,  0.91139642,\n",
              "        0.91943248,  0.9196299 ,  0.9149644 ,  0.90275839,  0.88872204,\n",
              "        0.87102329,  0.85502341,  0.8415046 ,  0.82858731,  0.81864021,\n",
              "        0.81209406,  0.80804734,  0.80831293,  0.80895727,  0.81102503,\n",
              "        0.81561222,  0.82128717,  0.8273356 ,  0.83169205,  0.83889744,\n",
              "        0.84541264,  0.85183375,  0.85919711,  0.86671151,  0.87576224,\n",
              "        0.88536882,  0.89322397,  0.90159211,  0.90770834,  0.91199898,\n",
              "        0.91722286,  0.92033202,  0.92240539,  0.92459069,  0.9234379 ,\n",
              "        0.92656926,  0.92638935,  0.9267288 ,  0.92331116,  0.91854458,\n",
              "        0.91440846,  0.90858067,  0.90145503,  0.89494551,  0.88724756,\n",
              "        0.88144863,  0.87963632,  0.87568711,  0.87390337,  0.86826755,\n",
              "        0.86964933,  0.87119532,  0.87397917,  0.87496182,  0.87957338,\n",
              "        0.88604379,  0.89603626,  0.90555805,  0.91518055,  0.92691218,\n",
              "        0.93812656,  0.95378528,  0.9566217 ,  0.96580012,  0.96848266,\n",
              "        0.9716733 ,  0.97412877,  0.98153848,  0.98302532,  0.9844336 ,\n",
              "        0.98484069,  0.98714333,  0.99143097,  0.99359684,  0.99454   ,\n",
              "        0.99935525,  0.99882006,  0.99973351,  0.9995222 ,  0.99462112,\n",
              "        0.98777823,  0.9853964 ,  0.97533846,  0.96582496,  0.95776121,\n",
              "        0.94996826,  0.93488273,  0.92469414,  0.92120481,  0.90907462,\n",
              "        0.89843246,  0.89571332,  0.88827602,  0.88148254,  0.87958349,\n",
              "        0.87884513,  0.88097827,  0.88001018,  0.88044117,  0.8923735 ,\n",
              "        0.89153465,  0.89432634,  0.90663185,  0.90521476,  0.90818171,\n",
              "        0.91700426,  0.91790571,  0.92058567,  0.92301707,  0.92793393,\n",
              "        0.92335347,  0.92630832,  0.93294173,  0.92662539,  0.93602064,\n",
              "        0.93931687,  0.93371601,  0.94763299,  0.94046242,  0.94566995,\n",
              "        0.94715563,  0.93869226,  0.94951278,  0.94058122,  0.94553085,\n",
              "        0.94870216,  0.94252535,  0.94600263,  0.94575688,  0.94106792,\n",
              "        0.95072707,  0.94549297,  0.95350519,  0.96754775,  0.96512261,\n",
              "        0.98931066,  0.98192348,  1.        ])"
            ]
          },
          "metadata": {},
          "execution_count": 16
        }
      ]
    },
    {
      "cell_type": "code",
      "source": [
        "#Se obtiene el número de elemento que se encuentra en cada columna, para ver si cuenta con la misma dimensión\n",
        "print(len(calibrated_spectra['flux']))\n",
        "print(len(columna2_array))\n"
      ],
      "metadata": {
        "colab": {
          "base_uri": "https://localhost:8080/"
        },
        "id": "fpvQH-AS_Yom",
        "outputId": "2c3fbd9a-7526-493e-890b-55b2d74f3886"
      },
      "execution_count": null,
      "outputs": [
        {
          "output_type": "stream",
          "name": "stdout",
          "text": [
            "1\n",
            "343\n"
          ]
        }
      ]
    },
    {
      "cell_type": "code",
      "source": [
        "#Se toma el tipo de dato, viendo que se cuenta con tipos diferentes \n",
        "print(type(calibrated_spectra['flux']))\n",
        "print(type(columna2_array))"
      ],
      "metadata": {
        "colab": {
          "base_uri": "https://localhost:8080/"
        },
        "id": "zPfKu7QZEY3J",
        "outputId": "36daaa67-96fd-4437-a708-da61db6c694c"
      },
      "execution_count": null,
      "outputs": [
        {
          "output_type": "stream",
          "name": "stdout",
          "text": [
            "<class 'pandas.core.series.Series'>\n",
            "<class 'numpy.ndarray'>\n"
          ]
        }
      ]
    },
    {
      "cell_type": "code",
      "source": [
        "#Se crea un objeto tipo serie al cual se le agrega el arreglo obtenido\n",
        "columna_serie=pd.Series([columna2_array])\n",
        "columna_serie"
      ],
      "metadata": {
        "colab": {
          "base_uri": "https://localhost:8080/"
        },
        "id": "SrFf-7UuGJXl",
        "outputId": "6b5b324f-be9f-461d-8079-90e131fab543"
      },
      "execution_count": null,
      "outputs": [
        {
          "output_type": "execute_result",
          "data": {
            "text/plain": [
              "0    [0.057796707570606405, 0.06081883208657738, 0....\n",
              "dtype: object"
            ]
          },
          "metadata": {},
          "execution_count": 28
        }
      ]
    },
    {
      "cell_type": "code",
      "source": [
        "#Con la misma longitud de cada serie, ya es posible hacer el cambio en las columnas\n",
        "print(len(calibrated_spectra['flux']))\n",
        "print(len(columna_serie))"
      ],
      "metadata": {
        "colab": {
          "base_uri": "https://localhost:8080/"
        },
        "id": "-Kr6UVmpKs0r",
        "outputId": "56ebcd0e-ebd6-44d0-fddd-75e4330dfa54"
      },
      "execution_count": null,
      "outputs": [
        {
          "output_type": "stream",
          "name": "stdout",
          "text": [
            "1\n",
            "1\n"
          ]
        }
      ]
    },
    {
      "cell_type": "code",
      "source": [
        "#Se comprueba el mismo tipo de dato\n",
        "print(type(calibrated_spectra['flux']))\n",
        "print(type(columna_serie))"
      ],
      "metadata": {
        "colab": {
          "base_uri": "https://localhost:8080/"
        },
        "id": "2rfnRK4tGhg-",
        "outputId": "3f10ccd6-c150-4d1c-b087-83803f107d55"
      },
      "execution_count": null,
      "outputs": [
        {
          "output_type": "stream",
          "name": "stdout",
          "text": [
            "<class 'pandas.core.series.Series'>\n",
            "<class 'pandas.core.series.Series'>\n"
          ]
        }
      ]
    },
    {
      "cell_type": "code",
      "source": [
        "#Se actualiza el dataFrame, con la columna de los flujos con valores normalizados\n",
        "calibrated_spectra['flux'] = columna_serie\n",
        "calibrated_spectra"
      ],
      "metadata": {
        "colab": {
          "base_uri": "https://localhost:8080/",
          "height": 81
        },
        "id": "pscKndfiK5rQ",
        "outputId": "ce7ce3c4-9338-4a7d-a9c8-b665718958aa"
      },
      "execution_count": null,
      "outputs": [
        {
          "output_type": "execute_result",
          "data": {
            "text/plain": [
              "            source_id                                               flux  \\\n",
              "0  308866701872125568  [0.057796707570606405, 0.06081883208657738, 0....   \n",
              "\n",
              "                                          flux_error  \n",
              "0  [5.214474777878777e-15, 3.992541487358003e-15,...  "
            ],
            "text/html": [
              "\n",
              "  <div id=\"df-4baf88cd-99cd-4e6f-beb0-772f8d563423\">\n",
              "    <div class=\"colab-df-container\">\n",
              "      <div>\n",
              "<style scoped>\n",
              "    .dataframe tbody tr th:only-of-type {\n",
              "        vertical-align: middle;\n",
              "    }\n",
              "\n",
              "    .dataframe tbody tr th {\n",
              "        vertical-align: top;\n",
              "    }\n",
              "\n",
              "    .dataframe thead th {\n",
              "        text-align: right;\n",
              "    }\n",
              "</style>\n",
              "<table border=\"1\" class=\"dataframe\">\n",
              "  <thead>\n",
              "    <tr style=\"text-align: right;\">\n",
              "      <th></th>\n",
              "      <th>source_id</th>\n",
              "      <th>flux</th>\n",
              "      <th>flux_error</th>\n",
              "    </tr>\n",
              "  </thead>\n",
              "  <tbody>\n",
              "    <tr>\n",
              "      <th>0</th>\n",
              "      <td>308866701872125568</td>\n",
              "      <td>[0.057796707570606405, 0.06081883208657738, 0....</td>\n",
              "      <td>[5.214474777878777e-15, 3.992541487358003e-15,...</td>\n",
              "    </tr>\n",
              "  </tbody>\n",
              "</table>\n",
              "</div>\n",
              "      <button class=\"colab-df-convert\" onclick=\"convertToInteractive('df-4baf88cd-99cd-4e6f-beb0-772f8d563423')\"\n",
              "              title=\"Convert this dataframe to an interactive table.\"\n",
              "              style=\"display:none;\">\n",
              "        \n",
              "  <svg xmlns=\"http://www.w3.org/2000/svg\" height=\"24px\"viewBox=\"0 0 24 24\"\n",
              "       width=\"24px\">\n",
              "    <path d=\"M0 0h24v24H0V0z\" fill=\"none\"/>\n",
              "    <path d=\"M18.56 5.44l.94 2.06.94-2.06 2.06-.94-2.06-.94-.94-2.06-.94 2.06-2.06.94zm-11 1L8.5 8.5l.94-2.06 2.06-.94-2.06-.94L8.5 2.5l-.94 2.06-2.06.94zm10 10l.94 2.06.94-2.06 2.06-.94-2.06-.94-.94-2.06-.94 2.06-2.06.94z\"/><path d=\"M17.41 7.96l-1.37-1.37c-.4-.4-.92-.59-1.43-.59-.52 0-1.04.2-1.43.59L10.3 9.45l-7.72 7.72c-.78.78-.78 2.05 0 2.83L4 21.41c.39.39.9.59 1.41.59.51 0 1.02-.2 1.41-.59l7.78-7.78 2.81-2.81c.8-.78.8-2.07 0-2.86zM5.41 20L4 18.59l7.72-7.72 1.47 1.35L5.41 20z\"/>\n",
              "  </svg>\n",
              "      </button>\n",
              "      \n",
              "  <style>\n",
              "    .colab-df-container {\n",
              "      display:flex;\n",
              "      flex-wrap:wrap;\n",
              "      gap: 12px;\n",
              "    }\n",
              "\n",
              "    .colab-df-convert {\n",
              "      background-color: #E8F0FE;\n",
              "      border: none;\n",
              "      border-radius: 50%;\n",
              "      cursor: pointer;\n",
              "      display: none;\n",
              "      fill: #1967D2;\n",
              "      height: 32px;\n",
              "      padding: 0 0 0 0;\n",
              "      width: 32px;\n",
              "    }\n",
              "\n",
              "    .colab-df-convert:hover {\n",
              "      background-color: #E2EBFA;\n",
              "      box-shadow: 0px 1px 2px rgba(60, 64, 67, 0.3), 0px 1px 3px 1px rgba(60, 64, 67, 0.15);\n",
              "      fill: #174EA6;\n",
              "    }\n",
              "\n",
              "    [theme=dark] .colab-df-convert {\n",
              "      background-color: #3B4455;\n",
              "      fill: #D2E3FC;\n",
              "    }\n",
              "\n",
              "    [theme=dark] .colab-df-convert:hover {\n",
              "      background-color: #434B5C;\n",
              "      box-shadow: 0px 1px 3px 1px rgba(0, 0, 0, 0.15);\n",
              "      filter: drop-shadow(0px 1px 2px rgba(0, 0, 0, 0.3));\n",
              "      fill: #FFFFFF;\n",
              "    }\n",
              "  </style>\n",
              "\n",
              "      <script>\n",
              "        const buttonEl =\n",
              "          document.querySelector('#df-4baf88cd-99cd-4e6f-beb0-772f8d563423 button.colab-df-convert');\n",
              "        buttonEl.style.display =\n",
              "          google.colab.kernel.accessAllowed ? 'block' : 'none';\n",
              "\n",
              "        async function convertToInteractive(key) {\n",
              "          const element = document.querySelector('#df-4baf88cd-99cd-4e6f-beb0-772f8d563423');\n",
              "          const dataTable =\n",
              "            await google.colab.kernel.invokeFunction('convertToInteractive',\n",
              "                                                     [key], {});\n",
              "          if (!dataTable) return;\n",
              "\n",
              "          const docLinkHtml = 'Like what you see? Visit the ' +\n",
              "            '<a target=\"_blank\" href=https://colab.research.google.com/notebooks/data_table.ipynb>data table notebook</a>'\n",
              "            + ' to learn more about interactive tables.';\n",
              "          element.innerHTML = '';\n",
              "          dataTable['output_type'] = 'display_data';\n",
              "          await google.colab.output.renderOutput(dataTable, element);\n",
              "          const docLink = document.createElement('div');\n",
              "          docLink.innerHTML = docLinkHtml;\n",
              "          element.appendChild(docLink);\n",
              "        }\n",
              "      </script>\n",
              "    </div>\n",
              "  </div>\n",
              "  "
            ]
          },
          "metadata": {},
          "execution_count": 30
        }
      ]
    },
    {
      "cell_type": "code",
      "source": [
        "#Se realiza el gráfico con los nuevos valores, observando que ya quedan los valores comprendidos entre 0 y 1\n",
        "from gaiaxpy import plot_spectra\n",
        "print('Normalizado')\n",
        "first=plot_spectra(calibrated_spectra, sampling=sampling)"
      ],
      "metadata": {
        "colab": {
          "base_uri": "https://localhost:8080/",
          "height": 675
        },
        "id": "VZwayMFDLAIZ",
        "outputId": "bbb11cfe-3ce3-45d5-c4de-3fe149d1b35b"
      },
      "execution_count": null,
      "outputs": [
        {
          "output_type": "stream",
          "name": "stdout",
          "text": [
            "Default sampling\n"
          ]
        },
        {
          "output_type": "display_data",
          "data": {
            "text/plain": [
              "<Figure size 1152x648 with 1 Axes>"
            ],
            "image/png": "[encoded data removed]"
          },
          "metadata": {
            "needs_background": "light"
          }
        }
      ]
    }
  ]
}